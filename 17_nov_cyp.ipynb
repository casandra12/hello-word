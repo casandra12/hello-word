{
  "nbformat": 4,
  "nbformat_minor": 0,
  "metadata": {
    "colab": {
      "name": "17_nov_cyp.ipynb",
      "provenance": [],
      "authorship_tag": "ABX9TyNwkiSlxHFRGHhjQ/SbhYOq",
      "include_colab_link": true
    },
    "kernelspec": {
      "name": "python3",
      "display_name": "Python 3"
    }
  },
  "cells": [
    {
      "cell_type": "markdown",
      "metadata": {
        "id": "view-in-github",
        "colab_type": "text"
      },
      "source": [
        "<a href=\"https://colab.research.google.com/github/casandra12/hello-word/blob/master/17_nov_cyp.ipynb\" target=\"_parent\"><img src=\"https://colab.research.google.com/assets/colab-badge.svg\" alt=\"Open In Colab\"/></a>"
      ]
    },
    {
      "cell_type": "code",
      "metadata": {
        "colab": {
          "base_uri": "https://localhost:8080/"
        },
        "id": "wbPGfyszSGPb",
        "outputId": "258cc253-1f66-4a75-a38f-927880510611"
      },
      "source": [
        "edad=15\n",
        "estatura=1.67 \n",
        "a=10\n",
        "b=3\n",
        "\n",
        "c=2**b+2+3+4\n",
        "\n",
        "print(c)\n",
        "\n",
        "e=estatura * 2.0\n",
        "print (e)\n",
        "\n",
        "f=a/b #en python se hace el cálculo enteros\n",
        "print(f)\n",
        "\n",
        "\n",
        "g=a//b\n",
        "print(\"g=\",g)\n",
        "\n",
        "h=a%b\n",
        "print(\"h=\",h)\n",
        "\n",
        "num=10\n",
        "print(\"es par num?\",(num%2)==0)\n",
        "\n"
      ],
      "execution_count": 8,
      "outputs": [
        {
          "output_type": "stream",
          "text": [
            "17\n",
            "3.34\n",
            "3.3333333333333335\n",
            "g= 3\n",
            "h= 1\n",
            "es par num? True\n"
          ],
          "name": "stdout"
        }
      ]
    },
    {
      "cell_type": "code",
      "metadata": {
        "colab": {
          "base_uri": "https://localhost:8080/"
        },
        "id": "in6e4EWYW23H",
        "outputId": "6db97cc1-4959-4a74-beba-b0d8f80b57a3"
      },
      "source": [
        "ecuacion=9+7*8-36/5 #\n",
        "print(ecuacion)"
      ],
      "execution_count": 11,
      "outputs": [
        {
          "output_type": "stream",
          "text": [
            "57.8\n"
          ],
          "name": "stdout"
        }
      ]
    },
    {
      "cell_type": "code",
      "metadata": {
        "colab": {
          "base_uri": "https://localhost:8080/"
        },
        "id": "_Qfr57u5b5XQ",
        "outputId": "3d8554d8-8983-44af-93f7-8f80b5ce01a9"
      },
      "source": [
        "#operadores logicos\n",
        "\n",
        "x=5\n",
        "y=4\n",
        "\n",
        "valor =(x==y) #son iguales?? falso \n",
        "print (valor)\n",
        "\n",
        "valor=(x!=y) #son diferentes?? verdader\n",
        "print(valor)\n",
        "\n",
        "valor=(x<y) #x es menor que y? falso \n",
        "print(valor)\n",
        "\n",
        "valor=(x>y) #x es mayor que y? falso \n",
        "print(valor)\n",
        "\n",
        "y=5\n",
        "valor=(x<=y)#x es menor o igual que y?? \n",
        "print(valor)\n",
        "\n",
        "valor=(x>=y)#x es mayor o igual que y??\n",
        "print(valor)"
      ],
      "execution_count": 19,
      "outputs": [
        {
          "output_type": "stream",
          "text": [
            "False\n",
            "True\n",
            "False\n",
            "True\n",
            "True\n",
            "True\n"
          ],
          "name": "stdout"
        }
      ]
    },
    {
      "cell_type": "code",
      "metadata": {
        "colab": {
          "base_uri": "https://localhost:8080/"
        },
        "id": "uoBDWPzOfg5h",
        "outputId": "c1620e94-a1c5-4f10-c7ef-bc9b62dda4f1"
      },
      "source": [
        "costo_chetos= 7.0\n",
        "tienda_bierta= True\n",
        "capital_en_bolsa=10.0\n",
        "\n",
        "se_compra=(costo_chetos <capital_en_bolsa)and (tienda_bierta==True)\n",
        "print(se_compra)"
      ],
      "execution_count": 22,
      "outputs": [
        {
          "output_type": "stream",
          "text": [
            "True\n"
          ],
          "name": "stdout"
        }
      ]
    }
  ]
}